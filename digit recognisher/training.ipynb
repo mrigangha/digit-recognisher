{
 "cells": [
  {
   "cell_type": "code",
   "execution_count": 1,
   "id": "b189346f-9150-4544-8fd3-223f204a6d1d",
   "metadata": {},
   "outputs": [],
   "source": [
    "import torch"
   ]
  },
  {
   "cell_type": "code",
   "execution_count": 2,
   "id": "82720b86-4bf6-4f21-a3db-f68c69951148",
   "metadata": {},
   "outputs": [],
   "source": [
    "import math\n",
    "\n",
    "\n",
    "dtype = torch.float\n",
    "device = torch.device(\"cpu\")"
   ]
  },
  {
   "cell_type": "code",
   "execution_count": 3,
   "id": "86d3be72-304f-4ebc-bb10-1c99444d1de2",
   "metadata": {},
   "outputs": [],
   "source": [
    "import torch.nn as nn\n",
    "from torch.utils.data import Dataset,DataLoader\n",
    "import torch.optim as optim\n",
    "from torchvision import datasets, transforms"
   ]
  },
  {
   "cell_type": "code",
   "execution_count": 23,
   "id": "b453c2fe-6b05-4868-b66e-3834613a490e",
   "metadata": {},
   "outputs": [],
   "source": [
    "transform = transforms.Compose([transforms.ToTensor(), transforms.Normalize((0.1307,), (0.3081,))])\n",
    "train_dataset = datasets.MNIST(root='./data', train=True, download=True,transform=transform)\n",
    "test_dataset = datasets.MNIST(root='./data', train=False, download=True,transform=transform)\n",
    "\n",
    "train_dataset=torch.utils.data.Subset(train_dataset,range(101))\n",
    "\n",
    "train_loader = DataLoader(train_dataset, batch_size=100, shuffle=True)\n",
    "test_loader = DataLoader(test_dataset, batch_size=100, shuffle=True)"
   ]
  },
  {
   "cell_type": "code",
   "execution_count": 24,
   "id": "b1db6f04-1c8a-41ea-af30-db7b96880b0f",
   "metadata": {},
   "outputs": [],
   "source": [
    "class NN(nn.Module):\n",
    "    def __init__(self):\n",
    "        super(NN, self).__init__()\n",
    "        self.flatten = nn.Flatten()\n",
    "        self.fc1 = nn.Linear(28 * 28, 128)\n",
    "        self.relu = nn.ReLU()\n",
    "        self.fc2 = nn.Linear(128, 10)\n",
    "\n",
    "    def forward(self, x):\n",
    "        x = self.flatten(x)\n",
    "        x = self.fc1(x)\n",
    "        x = self.relu(x)\n",
    "        x = self.fc2(x)\n",
    "        return x\n"
   ]
  },
  {
   "cell_type": "code",
   "execution_count": 25,
   "id": "2d945c94-a753-4e58-a2c4-7ac0ff85fd44",
   "metadata": {},
   "outputs": [],
   "source": [
    "model = NN().to(device)\n",
    "criterion = nn.CrossEntropyLoss()\n",
    "optimizer = optim.Adam(model.parameters(), lr=0.001)\n",
    "\n",
    "num_epochs = 1"
   ]
  },
  {
   "cell_type": "code",
   "execution_count": 26,
   "id": "03a6d953-4313-443b-90ac-3d6e9c127d04",
   "metadata": {},
   "outputs": [
    {
     "name": "stdout",
     "output_type": "stream",
     "text": [
      "Epoch 1/1, Batch 0/2, Loss: 2.3407\n"
     ]
    }
   ],
   "source": [
    "for epoch in range(num_epochs):\n",
    "    model.train()\n",
    "    for batch_idx, (data, target) in enumerate(train_loader):\n",
    "        data, target = data.to(device), target.to(device)\n",
    "        optimizer.zero_grad()\n",
    "        output = model(data)\n",
    "        loss = criterion(output, target)\n",
    "        loss.backward()\n",
    "        optimizer.step()\n",
    "        \n",
    "        if batch_idx % 10 == 0:\n",
    "            print(f\"Epoch {epoch+1}/{num_epochs}, Batch {batch_idx}/{len(train_loader)}, Loss: {loss.item():.4f}\")"
   ]
  },
  {
   "cell_type": "code",
   "execution_count": 27,
   "id": "5eb16610-b1ed-43e0-bc53-df08fca81ce2",
   "metadata": {},
   "outputs": [
    {
     "name": "stdout",
     "output_type": "stream",
     "text": [
      "Accuracy on test set: 35.56%\n"
     ]
    }
   ],
   "source": [
    "model.eval()\n",
    "correct = 0\n",
    "total = 0\n",
    "\n",
    "with torch.no_grad():\n",
    "    for data, target in test_loader:\n",
    "        data, target = data.to(device), target.to(device)\n",
    "        output = model(data)\n",
    "        _, predicted = torch.max(output.data, 1)\n",
    "        total += target.size(0)\n",
    "        correct += (predicted == target).sum().item()\n",
    "\n",
    "print(f\"Accuracy on test set: {100 * correct / total:.2f}%\")"
   ]
  },
  {
   "cell_type": "code",
   "execution_count": 28,
   "id": "bba78a13-d6a9-4513-a936-167feee7d45c",
   "metadata": {},
   "outputs": [],
   "source": [
    "torch.save(model.state_dict(), \"model.pth\")#deploying the model"
   ]
  },
  {
   "cell_type": "code",
   "execution_count": 16,
   "id": "b59bfebc-d47c-417d-9394-05f536b50767",
   "metadata": {},
   "outputs": [
    {
     "name": "stdout",
     "output_type": "stream",
     "text": [
      "Predicted digit: 1\n"
     ]
    }
   ],
   "source": [
    "from PIL import Image \n",
    "\n",
    "image_path = '4.png' # Replace 'image.png' with your image file\n",
    "image = Image.open(image_path).convert('L') # Convert to grayscale\n",
    "transform = transforms.Compose([\n",
    "    transforms.Resize((28, 28)), # Resize to MNIST size\n",
    "    transforms.ToTensor(),\n",
    "    transforms.Normalize((0.1307,), (0.3081,)) # Normalize the image\n",
    "])\n",
    "image = transform(image).unsqueeze(0) # Add a batch dimension\n",
    "\n",
    "# Make predictions\n",
    "with torch.no_grad():\n",
    "    output = model(image)\n",
    "    _, predicted = torch.max(output.data, 1)\n",
    "print('Predicted digit:', predicted.item())"
   ]
  },
  {
   "cell_type": "code",
   "execution_count": 119,
   "id": "8a9901c6-8557-491e-bd02-fa954535bbdd",
   "metadata": {},
   "outputs": [
    {
     "data": {
      "text/plain": [
       "'model = NN() # Replace \\'mnist_model.pt\\' with your model file\\nmodel.load_state_dict(torch.load(\"model.pth\"))\\nmodel.eval()\\n\\n# Load and preprocess the image\\nimage_path = \\'4.png\\' # Replace \\'image.png\\' with your image file\\nimage = Image.open(image_path).convert(\\'L\\') # Convert to grayscale\\ntransform = transforms.Compose([\\n    transforms.Resize((28, 28)), # Resize to MNIST size\\n    transforms.ToTensor(),\\n    transforms.Normalize((0.1307,), (0.3081,)) # Normalize the image\\n])\\nimage = transform(image).unsqueeze(0) # Add a batch dimension\\n\\n# Make predictions\\nwith torch.no_grad():\\n    output = model(image)\\n    _, predicted = torch.max(output.data, 1)\\nprint(\\'Predicted digit:\\', predicted.item())'"
      ]
     },
     "execution_count": 119,
     "metadata": {},
     "output_type": "execute_result"
    }
   ],
   "source": [
    "\n",
    "\"\"\"model = NN() # Replace 'mnist_model.pt' with your model file\n",
    "model.load_state_dict(torch.load(\"model.pth\"))\n",
    "model.eval()\n",
    "\n",
    "# Load and preprocess the image\n",
    "image_path = '4.png' # Replace 'image.png' with your image file\n",
    "image = Image.open(image_path).convert('L') # Convert to grayscale\n",
    "transform = transforms.Compose([\n",
    "    transforms.Resize((28, 28)), # Resize to MNIST size\n",
    "    transforms.ToTensor(),\n",
    "    transforms.Normalize((0.1307,), (0.3081,)) # Normalize the image\n",
    "])\n",
    "image = transform(image).unsqueeze(0) # Add a batch dimension\n",
    "\n",
    "# Make predictions\n",
    "with torch.no_grad():\n",
    "    output = model(image)\n",
    "    _, predicted = torch.max(output.data, 1)\n",
    "print('Predicted digit:', predicted.item())\"\"\""
   ]
  },
  {
   "cell_type": "code",
   "execution_count": null,
   "id": "3b45414d-385c-4372-9db9-049f08c104c2",
   "metadata": {},
   "outputs": [],
   "source": []
  }
 ],
 "metadata": {
  "kernelspec": {
   "display_name": "Python 3 (ipykernel)",
   "language": "python",
   "name": "python3"
  },
  "language_info": {
   "codemirror_mode": {
    "name": "ipython",
    "version": 3
   },
   "file_extension": ".py",
   "mimetype": "text/x-python",
   "name": "python",
   "nbconvert_exporter": "python",
   "pygments_lexer": "ipython3",
   "version": "3.12.3"
  }
 },
 "nbformat": 4,
 "nbformat_minor": 5
}
